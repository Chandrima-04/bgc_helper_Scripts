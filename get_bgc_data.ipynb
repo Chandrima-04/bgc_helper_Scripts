{
 "cells": [
  {
   "cell_type": "code",
   "execution_count": 1,
   "metadata": {},
   "outputs": [],
   "source": [
    "from Bio import Entrez\n",
    "import pandas as pd\n",
    "import html\n",
    "import re\n",
    "import json\n",
    "import xml.etree.ElementTree as ET\n",
    "\n",
    "# Set your email (required by NCBI)\n",
    "Entrez.email = \"chandrima.004@gmail.com\"  "
   ]
  },
  {
   "cell_type": "code",
   "execution_count": 4,
   "metadata": {},
   "outputs": [
    {
     "name": "stdout",
     "output_type": "stream",
     "text": [
      "Found 20000 datasets.\n",
      "Search Term: metagenomic[All Fields] AND WGS[Strategy] AND environmental[All Fields] NOT human[Organism]\n",
      "Total results found: 537184\n",
      "Returned IDs: 20000\n"
     ]
    }
   ],
   "source": [
    "# Search term: metagenomic + shotgun + environmental\n",
    "search_term = (\n",
    "    'metagenomic[All Fields] AND WGS[Strategy] AND environmental[All Fields] NOT human[Organism]'\n",
    ")\n",
    "\n",
    "# Search SRA for this query\n",
    "handle = Entrez.esearch(\n",
    "    db=\"sra\",\n",
    "    term=search_term,\n",
    "    retmax=20000  # Increase this if needed\n",
    ")\n",
    "record = Entrez.read(handle)\n",
    "handle.close()\n",
    "\n",
    "sra_ids = record[\"IdList\"]\n",
    "print(f\"Found {len(sra_ids)} datasets.\")\n",
    "\n",
    "\n",
    "print(\"Search Term:\", search_term)\n",
    "print(\"Total results found:\", record[\"Count\"])\n",
    "print(\"Returned IDs:\", len(sra_ids))\n"
   ]
  },
  {
   "cell_type": "code",
   "execution_count": 5,
   "metadata": {},
   "outputs": [
    {
     "name": "stdout",
     "output_type": "stream",
     "text": [
      "Error retrieving batch 11800-11850: HTTP Error 429: Too Many Requests\n",
      "Error retrieving batch 17350-17400: HTTP Error 429: Too Many Requests\n",
      "Number of summaries retrieved: 19900\n"
     ]
    }
   ],
   "source": [
    "# Get summaries for the SRA IDs\n",
    "summaries = []\n",
    "for i in range(0, len(sra_ids), 50):\n",
    "    batch = sra_ids[i:i+50]\n",
    "    try:\n",
    "        handle = Entrez.esummary(db=\"sra\", id=\",\".join(batch))\n",
    "        summary_batch = Entrez.read(handle)\n",
    "        handle.close()\n",
    "        summaries.extend(summary_batch)\n",
    "    except Exception as e:\n",
    "        print(f\"Error retrieving batch {i}-{i+50}: {e}\")\n",
    "\n",
    "print(\"Number of summaries retrieved:\", len(summaries))"
   ]
  },
  {
   "cell_type": "code",
   "execution_count": 6,
   "metadata": {},
   "outputs": [
    {
     "name": "stdout",
     "output_type": "stream",
     "text": [
      "{\n",
      "  \"Item\": [],\n",
      "  \"Id\": \"38091106\",\n",
      "  \"ExpXml\": \"<Summary><Title>HiSeq X Ten paired end sequencing</Title><Platform instrument_model=\\\"HiSeq X Ten\\\">ILLUMINA</Platform><Statistics total_runs=\\\"1\\\" total_spots=\\\"0\\\" total_bases=\\\"0\\\" total_size=\\\"0\\\" cluster_name=\\\"public\\\"/></Summary><Submitter acc=\\\"ERA30852561\\\" center_name=\\\"Department of Clinical Sciences Lund, Lund Univers\\\" contact_name=\\\"European Nucleotide Archive\\\" lab_name=\\\"European Nucleotide Archive\\\"/><Experiment acc=\\\"ERX13158885\\\" ver=\\\"1\\\" status=\\\"public\\\" name=\\\"HiSeq X Ten paired end sequencing\\\"/><Study acc=\\\"ERP163562\\\" name=\\\"The Gut Microbiome in Preeclampsia\\\"/><Organism taxid=\\\"408170\\\" ScientificName=\\\"human gut metagenome\\\"/><Sample acc=\\\"ERS21114313\\\" name=\\\"\\\"/><Instrument ILLUMINA=\\\"HiSeq X Ten\\\"/><Library_descriptor><LIBRARY_NAME>S21</LIBRARY_NAME><LIBRARY_STRATEGY>WGS</LIBRARY_STRATEGY><LIBRARY_SOURCE>METAGENOMIC</LIBRARY_SOURCE><LIBRARY_SELECTION>RANDOM</LIBRARY_SELECTION><LIBRARY_LAYOUT> <PAIRED/> </LIBRARY_LAYOUT></Library_descriptor><Bioproject>PRJEB79379</Bioproject><Biosample>SAMEA116115604</Biosample>\",\n",
      "  \"Runs\": \"<Run acc=\\\"ERR13757633\\\" total_spots=\\\"\\\" total_bases=\\\"\\\" load_done=\\\"false\\\" is_public=\\\"true\\\" cluster_name=\\\"\\\" unavailable=\\\"true\\\"/>\",\n",
      "  \"ExtLinks\": \"\",\n",
      "  \"CreateDate\": \"2025/04/10\",\n",
      "  \"UpdateDate\": \"2025/04/10\"\n",
      "}\n"
     ]
    }
   ],
   "source": [
    "print(json.dumps(summaries[0], indent=2))"
   ]
  },
  {
   "cell_type": "code",
   "execution_count": 7,
   "metadata": {},
   "outputs": [],
   "source": [
    "def clean_xml(text):\n",
    "    # Basic safety: replace unescaped & with &amp; only when not already an entity\n",
    "    text = re.sub(r'&(?!amp;|lt;|gt;|apos;|quot;)', '&amp;', text)\n",
    "    # Remove invalid control characters (non-printable)\n",
    "    text = re.sub(r'[^\\x09\\x0A\\x0D\\x20-\\x7F]', '', text)\n",
    "    return f\"<root>{text}</root>\""
   ]
  },
  {
   "cell_type": "code",
   "execution_count": 8,
   "metadata": {},
   "outputs": [],
   "source": [
    "# Process each summary into structured metadata\n",
    "data = []\n",
    "\n",
    "for item in summaries:\n",
    "    exp_xml = clean_xml(item.get(\"ExpXml\", \"\"))\n",
    "    runs_xml = clean_xml(item.get(\"Runs\", \"\"))\n",
    "\n",
    "    try:\n",
    "        exp_tree = ET.fromstring(exp_xml)\n",
    "        run_tree = ET.fromstring(runs_xml)\n",
    "\n",
    "        title = exp_tree.findtext(\".//Title\", default=\"\")\n",
    "        platform = exp_tree.find(\".//Platform\")\n",
    "        platform_name = platform.attrib.get('instrument_model', '') if platform is not None else \"\"\n",
    "\n",
    "        library_strategy = exp_tree.findtext(\".//Library_descriptor/LIBRARY_STRATEGY\", default=\"\")\n",
    "        library_source = exp_tree.findtext(\".//Library_descriptor/LIBRARY_SOURCE\", default=\"\")\n",
    "\n",
    "        study = exp_tree.find(\".//Study\")\n",
    "        study_acc = study.attrib.get(\"acc\", \"\") if study is not None else \"\"\n",
    "        study_name = study.attrib.get(\"name\", \"\") if study is not None else \"\"\n",
    "\n",
    "        bioproject = exp_tree.findtext(\".//Bioproject\", default=\"\")\n",
    "        biosample = exp_tree.findtext(\".//Biosample\", default=\"\")\n",
    "\n",
    "        organism = exp_tree.find(\".//Organism\")\n",
    "        organism_name = organism.attrib.get(\"ScientificName\", \"\") if organism is not None else \"\"\n",
    "        taxid = organism.attrib.get(\"taxid\", \"\") if organism is not None else \"\"\n",
    "\n",
    "        run_ids = [r.attrib.get('acc', '') for r in run_tree.findall(\".//Run\")]\n",
    "\n",
    "        for run_id in run_ids:\n",
    "            data.append({\n",
    "                \"Run\": run_id,\n",
    "                \"StudyAccession\": study_acc,\n",
    "                \"StudyTitle\": study_name,\n",
    "                \"Bioproject\": bioproject,\n",
    "                \"Biosample\": biosample,\n",
    "                \"Organism\": organism_name,\n",
    "                \"TaxID\": taxid,\n",
    "                \"Platform\": platform_name,\n",
    "                \"LibraryStrategy\": library_strategy,\n",
    "                \"LibrarySource\": library_source,\n",
    "                \"Title\": title\n",
    "            })\n",
    "\n",
    "    except ET.ParseError as e:\n",
    "        print(f\"⚠️ Failed to parse XML for item: {item.get('Id', 'Unknown')} — Error: {e}\")\n"
   ]
  },
  {
   "cell_type": "code",
   "execution_count": 13,
   "metadata": {},
   "outputs": [
    {
     "name": "stdout",
     "output_type": "stream",
     "text": [
      "      StudyAccession                                         StudyTitle  \\\n",
      "37         SRP577669                       ARGs Circular Network in QTP   \n",
      "49         SRP577669                       ARGs Circular Network in QTP   \n",
      "69         SRP577669                       ARGs Circular Network in QTP   \n",
      "79         ERP170238  Uncovering the taxonomic and functional divers...   \n",
      "117        SRP577458  Metagenomic Assembly of Methanotrophic and Met...   \n",
      "...              ...                                                ...   \n",
      "18725      SRP555193                  Food metagenomes (CM_UNINA_FFOOD)   \n",
      "18921      SRP555181  Mediation of systemic exposure to the immunosu...   \n",
      "19028      SRP555060  Fungal Profiles of Puerto Rican Caves Through ...   \n",
      "19035      SRP512443   CONSORTIUM VE303 phase 2 study stool metagenomes   \n",
      "19537      ERP151343  Microbiome response to ketogenic diet in a mou...   \n",
      "\n",
      "         Bioproject                      Organism                 Platform  \\\n",
      "37     PRJNA1248871                gut metagenome    Illumina NovaSeq 6000   \n",
      "49     PRJNA1248871               soil metagenome    Illumina NovaSeq 6000   \n",
      "69     PRJNA1248871              plant metagenome    Illumina NovaSeq 6000   \n",
      "79       PRJEB86943                    metagenome              unspecified   \n",
      "117    PRJNA1248234    Methylohalobius crimeensis  Illumina NovaSeq X Plus   \n",
      "...             ...                           ...                      ...   \n",
      "18725  PRJNA1206071  food fermentation metagenome    Illumina NovaSeq 6000   \n",
      "18921  PRJNA1206184                    metagenome    Illumina NovaSeq 6000   \n",
      "19028  PRJNA1205900                    metagenome           Illumina MiSeq   \n",
      "19035  PRJNA1121316                gut metagenome      Illumina HiSeq 4000   \n",
      "19537    PRJEB66281                                           NextSeq 2000   \n",
      "\n",
      "      LibraryStrategy LibrarySource  \n",
      "37                WGS   METAGENOMIC  \n",
      "49                WGS   METAGENOMIC  \n",
      "69                WGS   METAGENOMIC  \n",
      "79                WGS   METAGENOMIC  \n",
      "117               WGS   METAGENOMIC  \n",
      "...               ...           ...  \n",
      "18725             WGS   METAGENOMIC  \n",
      "18921             WGS   METAGENOMIC  \n",
      "19028             WGS   METAGENOMIC  \n",
      "19035             WGS   METAGENOMIC  \n",
      "19537             WGS   METAGENOMIC  \n",
      "\n",
      "[675 rows x 7 columns]\n",
      "✅ Saved cleaned summary to 'study_level_summary_cleaned.csv'\n"
     ]
    }
   ],
   "source": [
    "# Create DataFrame outside the loop\n",
    "df = pd.DataFrame(data)\n",
    "\n",
    "# Filter for environmental WGS metagenomics\n",
    "filtered = df[\n",
    "    df[\"LibraryStrategy\"].str.contains(\"WGS\", na=False) &\n",
    "    df[\"LibrarySource\"].str.contains(\"METAGENOMIC\", na=False)\n",
    "]\n",
    "\n",
    "# Step 1: Drop unwanted columns\n",
    "filtered_cleaned = filtered.drop(columns=[\"Run\", \"Biosample\", \"TaxID\", \"Title\"])\n",
    "\n",
    "# Step 2: Remove rows where Organism mentions human (case-insensitive)\n",
    "filtered_cleaned = filtered_cleaned[~filtered_cleaned[\"Organism\"].str.contains(\"human\", case=False, na=False)]\n",
    "\n",
    "# Step 3: Drop duplicates\n",
    "study_summary = filtered_cleaned.drop_duplicates()\n",
    "\n",
    "# Step 4: Show and save\n",
    "print(study_summary)\n",
    "study_summary.to_csv(\"study_level_summary_cleaned.csv\", index=False)\n",
    "print(\"✅ Saved cleaned summary to 'study_level_summary_cleaned.csv'\")\n"
   ]
  }
 ],
 "metadata": {
  "kernelspec": {
   "display_name": "base",
   "language": "python",
   "name": "python3"
  },
  "language_info": {
   "codemirror_mode": {
    "name": "ipython",
    "version": 3
   },
   "file_extension": ".py",
   "mimetype": "text/x-python",
   "name": "python",
   "nbconvert_exporter": "python",
   "pygments_lexer": "ipython3",
   "version": "3.12.2"
  }
 },
 "nbformat": 4,
 "nbformat_minor": 2
}
